{
 "cells": [
  {
   "cell_type": "code",
   "execution_count": 12,
   "metadata": {},
   "outputs": [
    {
     "data": {
      "text/plain": [
       "'1.14.3'"
      ]
     },
     "execution_count": 12,
     "metadata": {},
     "output_type": "execute_result"
    }
   ],
   "source": [
    "numpy.__version__ #python _attribute_  屬性通常會在前面加上底線"
   ]
  },
  {
   "cell_type": "code",
   "execution_count": 20,
   "metadata": {},
   "outputs": [
    {
     "name": "stdout",
     "output_type": "stream",
     "text": [
      "<class 'float'>\n",
      "0.0\n",
      "<class 'float'>\n",
      "1.0\n",
      "<class 'float'>\n",
      "2.0\n",
      "<class 'float'>\n",
      "3.0\n",
      "<class 'float'>\n",
      "4.0\n",
      "<class 'float'>\n",
      "5.0\n",
      "<class 'float'>\n",
      "6.0\n",
      "<class 'float'>\n",
      "7.0\n",
      "<class 'float'>\n",
      "8.0\n",
      "<class 'float'>\n",
      "9.0\n"
     ]
    }
   ],
   "source": [
    "#     array.array( 型態  ,  資料)\n",
    "import array as ay\n",
    "L=list(range(10))\n",
    "ArrayList=ay.array('f',L)\n",
    "for i in ArrayList:\n",
    "    print(type(i))\n",
    "    print(i)\n",
    "    \n",
    "    \n",
    "    \n",
    "\n",
    "#     -----------------型態表-----------------\n",
    "#     'b'         signed integer     1 \n",
    "#     'B'         unsigned integer   1 \n",
    "#     'u'         Unicode character  2 (see note) \n",
    "#     'h'         signed integer     2 \n",
    "#     'H'         unsigned integer   2 \n",
    "#     'i'         signed integer     2 \n",
    "#     'I'         unsigned integer   2 \n",
    "#     'l'         signed integer     4 \n",
    "#     'L'         unsigned integer   4 \n",
    "#     'q'         signed integer     8 (see note) \n",
    "#     'Q'         unsigned integer   8 (see note) \n",
    "#     'f'         floating point     4 \n",
    "#     'd'         floating point     8 "
   ]
  },
  {
   "cell_type": "code",
   "execution_count": 32,
   "metadata": {},
   "outputs": [
    {
     "name": "stdout",
     "output_type": "stream",
     "text": [
      "<class 'numpy.ndarray'>\n",
      "<class 'numpy.float64'>\n",
      "<class 'numpy.float64'>\n",
      "<class 'numpy.float64'>\n",
      "<class 'numpy.float64'>\n",
      "<class 'numpy.float64'>\n"
     ]
    },
    {
     "data": {
      "text/plain": [
       "array([1., 2., 3.], dtype=float16)"
      ]
     },
     "execution_count": 32,
     "metadata": {},
     "output_type": "execute_result"
    }
   ],
   "source": [
    "#NumPy Array 會限制內容必須是一致的型態\n",
    "#會自動轉型成一致\n",
    "\n",
    "import numpy as np\n",
    "\n",
    "nparr=np.array([1,4.1,2,5.2,3])\n",
    "\n",
    "print(type(nparr))\n",
    "\n",
    "for i in nparr:\n",
    "    print(type(i))\n",
    "# 可使用 dtype 指定\n",
    "np.array([1,2,3],dtype='float16')"
   ]
  },
  {
   "cell_type": "code",
   "execution_count": 37,
   "metadata": {},
   "outputs": [
    {
     "data": {
      "text/plain": [
       "array([[2, 3, 4],\n",
       "       [5, 6, 7],\n",
       "       [6, 7, 8]])"
      ]
     },
     "execution_count": 37,
     "metadata": {},
     "output_type": "execute_result"
    }
   ],
   "source": [
    "np.array([range(i,i+3) for i in [2,5,6]])\n",
    "\n"
   ]
  },
  {
   "cell_type": "code",
   "execution_count": 38,
   "metadata": {},
   "outputs": [
    {
     "name": "stdout",
     "output_type": "stream",
     "text": [
      "<generator object <genexpr> at 0x0000007F23688518>\n"
     ]
    }
   ],
   "source": []
  }
 ],
 "metadata": {
  "kernelspec": {
   "display_name": "Python 3",
   "language": "python",
   "name": "python3"
  },
  "language_info": {
   "codemirror_mode": {
    "name": "ipython",
    "version": 3
   },
   "file_extension": ".py",
   "mimetype": "text/x-python",
   "name": "python",
   "nbconvert_exporter": "python",
   "pygments_lexer": "ipython3",
   "version": "3.6.5"
  }
 },
 "nbformat": 4,
 "nbformat_minor": 2
}
