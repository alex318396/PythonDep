{
 "cells": [
  {
   "cell_type": "code",
   "execution_count": 1,
   "metadata": {},
   "outputs": [
    {
     "name": "stdout",
     "output_type": "stream",
     "text": [
      "<class 'float'>\n",
      "0.0\n",
      "<class 'float'>\n",
      "1.0\n",
      "<class 'float'>\n",
      "2.0\n",
      "<class 'float'>\n",
      "3.0\n",
      "<class 'float'>\n",
      "4.0\n",
      "<class 'float'>\n",
      "5.0\n",
      "<class 'float'>\n",
      "6.0\n",
      "<class 'float'>\n",
      "7.0\n",
      "<class 'float'>\n",
      "8.0\n",
      "<class 'float'>\n",
      "9.0\n"
     ]
    }
   ],
   "source": [
    "#     array.array( 型態  ,  資料)\n",
    "import array as ay\n",
    "L=list(range(10))\n",
    "ArrayList=ay.array('f',L)\n",
    "for i in ArrayList:\n",
    "    print(type(i))\n",
    "    print(i)\n",
    "    \n",
    "    \n",
    "    \n",
    "\n",
    "#     -----------------型態表-----------------\n",
    "#     'b'         signed integer     1 \n",
    "#     'B'         unsigned integer   1 \n",
    "#     'u'         Unicode character  2 (see note) \n",
    "#     'h'         signed integer     2 \n",
    "#     'H'         unsigned integer   2 \n",
    "#     'i'         signed integer     2 \n",
    "#     'I'         unsigned integer   2 \n",
    "#     'l'         signed integer     4 \n",
    "#     'L'         unsigned integer   4 \n",
    "#     'q'         signed integer     8 (see note) \n",
    "#     'Q'         unsigned integer   8 (see note) \n",
    "#     'f'         floating point     4 \n",
    "#     'd'         floating point     8 "
   ]
  },
  {
   "cell_type": "code",
   "execution_count": 2,
   "metadata": {},
   "outputs": [
    {
     "name": "stdout",
     "output_type": "stream",
     "text": [
      "<class 'numpy.ndarray'>\n",
      "<class 'numpy.float64'>\n",
      "<class 'numpy.float64'>\n",
      "<class 'numpy.float64'>\n",
      "<class 'numpy.float64'>\n",
      "<class 'numpy.float64'>\n"
     ]
    },
    {
     "data": {
      "text/plain": [
       "array([1., 2., 3.], dtype=float16)"
      ]
     },
     "execution_count": 2,
     "metadata": {},
     "output_type": "execute_result"
    }
   ],
   "source": [
    "#NumPy Array 會限制內容必須是一致的型態\n",
    "#會自動轉型成一致\n",
    "\n",
    "import numpy as np\n",
    "np.__version__ #python _attribute_  屬性通常會在前面加上底線\n",
    "nparr=np.array([1,4.1,2,5.2,3])\n",
    "\n",
    "print(type(nparr))\n",
    "\n",
    "for i in nparr:\n",
    "    print(type(i))\n",
    "# 可使用 dtype 指定\n",
    "np.array([1,2,3],dtype='float16')"
   ]
  },
  {
   "cell_type": "code",
   "execution_count": 3,
   "metadata": {},
   "outputs": [
    {
     "data": {
      "text/plain": [
       "array([[1, 0, 0, 0, 0],\n",
       "       [0, 1, 0, 0, 0],\n",
       "       [0, 0, 1, 0, 0],\n",
       "       [0, 0, 0, 1, 0],\n",
       "       [0, 0, 0, 0, 1]])"
      ]
     },
     "execution_count": 3,
     "metadata": {},
     "output_type": "execute_result"
    }
   ],
   "source": [
    "# 建立 三維陣列\n",
    "np.array([range(i,i+3) for i in [2,5,6]])\n",
    "\n",
    "# np.zeros 建立一個全部為零的 arrray 可帶入參數 shape= 陣列維度和長度 dtype='型態'\n",
    "zeroArr=np.zeros([2,1],int)         # example 1 \n",
    "zeroArr1=np.zeros(10,dtype='float') # example 2\n",
    "# 相同用法 np.ones  \n",
    "oneArr=np.ones([3,2],float)  \n",
    "oneArr1=np.ones((3,1),int)\n",
    "# 相同用法 np.full\n",
    "fullArr=np.full((5,2),2.11)\n",
    "fullArr\n",
    "# np.arrange 跟一般range 相同\n",
    "np.arange(5)\n",
    "#for i in np.arange(3,7,2):\n",
    "#    print(i)\n",
    "\n",
    "\n",
    "#!! np.linspace(begin, end , interval) 建立一個 begin 到 end 平均分配的陣列\n",
    "np.linspace(1,2,3)\n",
    "\n",
    "#!!! np.random.random((list,element)) 建立一個0-1隨機值的多維陣列  幾個list 一個list 有多少元素\n",
    "np.random.random((3,4))\n",
    "#!!! np.random.normal( avg , sd ,(list,element))  建立一個 平均值為avg ,標準差為 sd 常態分配的隨機多維陣列 標準差為1 平均值為0\n",
    "np.random.normal(2,5,(3,1))\n",
    "#!!! np.random.randint(begin,end,(list,element))  建立一個 從bein-end 隨機值的 多維陣列  \n",
    "np.random.randint(3,6,(3,2))\n",
    "# np.eye( int ) 建立單位矩陣\n",
    "np.eye(5,dtype=int)"
   ]
  },
  {
   "cell_type": "code",
   "execution_count": 4,
   "metadata": {},
   "outputs": [
    {
     "name": "stdout",
     "output_type": "stream",
     "text": [
      "x3 ndim: 3\n",
      "x3 shape: (3, 4, 5)\n",
      "x3 size: 60\n",
      "x3 dtypeL int64\n"
     ]
    }
   ],
   "source": [
    "x1=np.random.randint(10,size=6)\n",
    "x2=np.random.randint(10,size=(3,4))\n",
    "x3=np.random.randint(10,size=(3,4,5))\n",
    "# np array attribute\n",
    "# attribute 1 ndim 維度\n",
    "print('x3 ndim:',x3.ndim)\n",
    "# attribute 2 shape 維度大小 \n",
    "print('x3 shape:',x3.shape)\n",
    "# attribute 3 size 個數\n",
    "print('x3 size:',x3.size)\n",
    "# attribute 4 dtype 型態\n",
    "print('x3 dtypeL',x3.dtype)"
   ]
  },
  {
   "cell_type": "code",
   "execution_count": 5,
   "metadata": {},
   "outputs": [
    {
     "name": "stdout",
     "output_type": "stream",
     "text": [
      "3\n",
      "3\n",
      "0\n"
     ]
    },
    {
     "data": {
      "text/plain": [
       "array([2, 9, 0, 3, 0, 6])"
      ]
     },
     "execution_count": 5,
     "metadata": {},
     "output_type": "execute_result"
    }
   ],
   "source": [
    "# NumPy 取值方式與List一致\n",
    "# example 1:\n",
    "print(x1[0])\n",
    "print(x1[3])\n",
    "print(x1[-2])\n",
    "#!!! Numpy 內容形態固定 如插入不同型態會自動轉型或截斷\n",
    "x1[0]=2.123\n",
    "x1"
   ]
  },
  {
   "cell_type": "code",
   "execution_count": 6,
   "metadata": {},
   "outputs": [
    {
     "name": "stdout",
     "output_type": "stream",
     "text": [
      "7\n"
     ]
    },
    {
     "data": {
      "text/plain": [
       "array([[ 6,  8,  3,  6],\n",
       "       [ 4,  7,  7, 33],\n",
       "       [ 8,  2,  4,  5]])"
      ]
     },
     "execution_count": 6,
     "metadata": {},
     "output_type": "execute_result"
    }
   ],
   "source": [
    "# NumPy 中括號取法\n",
    "print(x2[1,2])\n",
    "# 可以直接指定值\n",
    "x2[1,3]=33\n",
    "x2"
   ]
  },
  {
   "cell_type": "code",
   "execution_count": 7,
   "metadata": {},
   "outputs": [
    {
     "name": "stdout",
     "output_type": "stream",
     "text": [
      "[0 2 4 6 8]\n",
      "[9 7 5 3 1]\n"
     ]
    },
    {
     "data": {
      "text/plain": [
       "array([0, 1, 2, 3, 4, 5, 6, 7, 8, 9])"
      ]
     },
     "execution_count": 7,
     "metadata": {},
     "output_type": "execute_result"
    }
   ],
   "source": [
    "# 切片使用方法 x[start:stop:step]\n",
    "x=np.arange(10)\n",
    "print(x[0::2])\n",
    "print(x[::-2])\n",
    "x"
   ]
  },
  {
   "cell_type": "code",
   "execution_count": 8,
   "metadata": {},
   "outputs": [
    {
     "name": "stdout",
     "output_type": "stream",
     "text": [
      "[ 6 33  5]\n",
      "[8 2 4 5]\n"
     ]
    },
    {
     "data": {
      "text/plain": [
       "array([[ 6,  8,  3,  6],\n",
       "       [ 4,  7,  7, 33],\n",
       "       [ 8,  2,  4,  5]])"
      ]
     },
     "execution_count": 8,
     "metadata": {},
     "output_type": "execute_result"
    }
   ],
   "source": [
    "# array[row,col] 讀取\n",
    "print(x2[:,-1])\n",
    "print(x2[2,:])\n",
    "x2"
   ]
  },
  {
   "cell_type": "markdown",
   "metadata": {},
   "source": [
    "<h2 style='color:red'> Important !!! </h2>"
   ]
  },
  {
   "cell_type": "code",
   "execution_count": 9,
   "metadata": {},
   "outputs": [
    {
     "name": "stdout",
     "output_type": "stream",
     "text": [
      "[[ 6  8  3  6]\n",
      " [ 4  7  7 33]\n",
      " [ 8  2  4  5]]\n",
      "----------------\n",
      "[[ 7 33]\n",
      " [ 4  5]]\n",
      "----------------\n",
      "[[ 7 23]\n",
      " [ 4  5]]\n",
      "----------------\n",
      "[[ 6  8  3  6]\n",
      " [ 4  7  7 23]\n",
      " [ 8  2  4  5]]\n"
     ]
    }
   ],
   "source": [
    "# Numpy slice 非複製資料結構，是製作視圖 ！！！ 表示可以讀取一個大資料集中的部分資料卻步loading 原有資料\n",
    "# example 1:\n",
    "print(x2)\n",
    "print('----------------')\n",
    "temp=x2[1:,2:]\n",
    "print(temp)\n",
    "print('----------------')\n",
    "temp[0,1]=23\n",
    "print(temp)\n",
    "print('----------------')\n",
    "print(x2)"
   ]
  },
  {
   "cell_type": "code",
   "execution_count": 10,
   "metadata": {},
   "outputs": [
    {
     "name": "stdout",
     "output_type": "stream",
     "text": [
      "[7 4]\n",
      "----------------\n",
      "[2 4]\n",
      "----------------\n",
      "[[ 6  8  3  6]\n",
      " [ 4  7  7 23]\n",
      " [ 8  2  4  5]]\n"
     ]
    }
   ],
   "source": [
    "# 複製 slice  \n",
    "x2_copy=x2[1:,2].copy()\n",
    "print(x2_copy)\n",
    "print('----------------')\n",
    "x2_copy[0]=2\n",
    "print(x2_copy)\n",
    "print('----------------')\n",
    "print(x2)\n",
    "\n",
    "#原始資料未變"
   ]
  },
  {
   "cell_type": "code",
   "execution_count": 11,
   "metadata": {},
   "outputs": [
    {
     "name": "stdout",
     "output_type": "stream",
     "text": [
      "[[[1 2]\n",
      "  [3 4]]\n",
      "\n",
      " [[5 6]\n",
      "  [7 8]]]\n",
      "[[1 2 3]\n",
      " [4 5 6]\n",
      " [7 8 9]]\n",
      "x (2, 3)\n",
      "reshape [[1 2 3 2 5 6]]\n",
      "np.newaxis [[[1 2 3]\n",
      "  [2 5 6]]]\n",
      "np.newaxis [[[1 2 3]]\n",
      "\n",
      " [[2 5 6]]]\n"
     ]
    }
   ],
   "source": [
    "# Numpy Array 可以使用 reshape (維度,大小) 將資料隨意轉換\n",
    "grid=np.arange(1,9).reshape(2,2,2)\n",
    "print(grid)\n",
    "grid2d=np.arange(1,10).reshape(3,3)\n",
    "print(grid2d)\n",
    "# reshape(1 ,大小) 會重新轉為二維陣列 \n",
    "regrid=grid.reshape(1,8)\n",
    "regrid[0][0]\n",
    "# reshape 乘列向量 \n",
    "x=np.array([[1,2,3],[2,5,6]])\n",
    "print('x',x.shape)\n",
    "print('reshape',x.reshape(1,6))\n",
    "print('np.newaxis',x[np.newaxis,:])\n",
    "# x[:,np.newaxis]\n",
    "print('np.newaxis',x[:,np.newaxis])"
   ]
  },
  {
   "cell_type": "code",
   "execution_count": 12,
   "metadata": {},
   "outputs": [
    {
     "name": "stdout",
     "output_type": "stream",
     "text": [
      "concatenate 2 [1 2 3 4 5 6]\n",
      "concatenate 3 [1 2 3 4 5 6 9 9 9]\n",
      "concatenate mutiple dimension : [[1 2 3]\n",
      " [4 5 6]\n",
      " [1 2 3]\n",
      " [4 5 6]]\n",
      "concatenate mutiple dimension axis=1 : [[1 2 3 1 2 3]\n",
      " [4 5 6 4 5 6]]\n"
     ]
    }
   ],
   "source": [
    "# 陣列的串接和分割 主要使用np.concatenate np.vstack np.hstack\n",
    "x=np.array([1,2,3])\n",
    "y=np.array([4,5,6])\n",
    "print('concatenate 2',np.concatenate([x,y]))\n",
    "# 串接多個陣列 \n",
    "z=np.array([9,9,9])\n",
    "print('concatenate 3',np.concatenate([x,y,z]))\n",
    "\n",
    "# 串接多維陣列 \n",
    "grid=np.array([[1,2,3],[4,5,6]]) \n",
    "print('concatenate mutiple dimension :',np.concatenate([grid,grid]))\n",
    "print('concatenate mutiple dimension axis=1 :',np.concatenate([grid,grid],axis=1))\n",
    "\n",
    "############################### \n",
    "# 缺點是不太好區分 可能使用錯\n",
    "###############################"
   ]
  },
  {
   "cell_type": "code",
   "execution_count": 13,
   "metadata": {},
   "outputs": [
    {
     "name": "stdout",
     "output_type": "stream",
     "text": [
      "np.vstack : [[9 8 7]\n",
      " [6 5 4]\n",
      " [1 2 3]]\n",
      "np.hstack : [[ 9  8  7 99]\n",
      " [ 6  5  4 99]]\n"
     ]
    }
   ],
   "source": [
    "# np.vstack 垂直堆疊 verical stack  --  大小必須一致\n",
    "\n",
    "x=np.array([1,2,3])\n",
    "grid=np.array([[9,8,7],[6,5,4]])\n",
    "print('np.vstack :',np.vstack([grid,x]))\n",
    "# np.hstack水平堆疊 horizontal stack 維度必須一致\n",
    "y=np.array([[99],[99]])\n",
    "print('np.hstack :',np.hstack([grid,y]))"
   ]
  },
  {
   "cell_type": "code",
   "execution_count": 14,
   "metadata": {},
   "outputs": [
    {
     "name": "stdout",
     "output_type": "stream",
     "text": [
      "[1 2 3] [99] [7 5]\n",
      "[[0 1 2 3]\n",
      " [4 5 6 7]] [[ 8  9 10 11]\n",
      " [12 13 14 15]]\n"
     ]
    }
   ],
   "source": [
    "# Numpy Array 切割  np.split\n",
    "temp=np.array([1,2,3,99,7,5])\n",
    "x1,x2,x3= np.split(temp,(3,4))\n",
    "print(x1,x2,x3)\n",
    "# np.vsplit  \n",
    "grid=np.arange(16).reshape(4,4)\n",
    "upper,lower=np.vsplit(grid,2)\n",
    "print(upper,lower)"
   ]
  },
  {
   "cell_type": "code",
   "execution_count": 18,
   "metadata": {},
   "outputs": [
    {
     "data": {
      "text/plain": [
       "(100, 2)"
      ]
     },
     "execution_count": 18,
     "metadata": {},
     "output_type": "execute_result"
    }
   ],
   "source": [
    "mean=[0,0]\n",
    "cov=[[1,2],[2,5]]\n",
    "X=np.random.multivariate_normal(mean,cov,100)\n",
    "X.shape\n"
   ]
  },
  {
   "cell_type": "code",
   "execution_count": 32,
   "metadata": {},
   "outputs": [
    {
     "data": {
      "text/plain": [
       "<matplotlib.collections.PathCollection at 0x1a1e7bc5f8>"
      ]
     },
     "execution_count": 32,
     "metadata": {},
     "output_type": "execute_result"
    },
    {
     "data": {
      "image/png": "[encoded data removed]",
      "text/plain": [
       "<Figure size 432x288 with 1 Axes>"
      ]
     },
     "metadata": {},
     "output_type": "display_data"
    }
   ],
   "source": [
    "%matplotlib inline\n",
    "import matplotlib.pyplot as plt\n",
    "import seaborn; seaborn.set()\n",
    "plt.scatter(X[:,0],X[:,1])"
   ]
  },
  {
   "cell_type": "code",
   "execution_count": 39,
   "metadata": {},
   "outputs": [
    {
     "data": {
      "text/plain": [
       "<matplotlib.collections.PathCollection at 0x1a1e490a90>"
      ]
     },
     "execution_count": 39,
     "metadata": {},
     "output_type": "execute_result"
    },
    {
     "data": {
      "image/png": "[encoded data removed]",
      "text/plain": [
       "<Figure size 432x288 with 1 Axes>"
      ]
     },
     "metadata": {},
     "output_type": "display_data"
    }
   ],
   "source": [
    "indices=np.random.choice(X.shape[0],20,replace=False)\n",
    "indices\n",
    "selection=X[indices]\n",
    "selection.shape\n",
    "\n",
    "plt.scatter(X[:,0],X[:,1] ,alpha=0.5)\n",
    "plt.scatter(selection[:,0],selection[:,1],facecolor='none',s=200 ,alpha=0.8)"
   ]
  }
 ],
 "metadata": {
  "kernelspec": {
   "display_name": "Python 3",
   "language": "python",
   "name": "python3"
  },
  "language_info": {
   "codemirror_mode": {
    "name": "ipython",
    "version": 3
   },
   "file_extension": ".py",
   "mimetype": "text/x-python",
   "name": "python",
   "nbconvert_exporter": "python",
   "pygments_lexer": "ipython3",
   "version": "3.6.5"
  }
 },
 "nbformat": 4,
 "nbformat_minor": 2
}
