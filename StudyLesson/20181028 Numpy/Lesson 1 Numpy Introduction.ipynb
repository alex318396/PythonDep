{
 "cells": [
  {
   "cell_type": "code",
   "execution_count": 1,
   "metadata": {},
   "outputs": [
    {
     "name": "stdout",
     "output_type": "stream",
     "text": [
      "<class 'float'>\n",
      "0.0\n",
      "<class 'float'>\n",
      "1.0\n",
      "<class 'float'>\n",
      "2.0\n",
      "<class 'float'>\n",
      "3.0\n",
      "<class 'float'>\n",
      "4.0\n",
      "<class 'float'>\n",
      "5.0\n",
      "<class 'float'>\n",
      "6.0\n",
      "<class 'float'>\n",
      "7.0\n",
      "<class 'float'>\n",
      "8.0\n",
      "<class 'float'>\n",
      "9.0\n"
     ]
    }
   ],
   "source": [
    "#     array.array( 型態  ,  資料)\n",
    "import array as ay\n",
    "L=list(range(10))\n",
    "ArrayList=ay.array('f',L)\n",
    "for i in ArrayList:\n",
    "    print(type(i))\n",
    "    print(i)\n",
    "    \n",
    "    \n",
    "    \n",
    "\n",
    "#     -----------------型態表-----------------\n",
    "#     'b'         signed integer     1 \n",
    "#     'B'         unsigned integer   1 \n",
    "#     'u'         Unicode character  2 (see note) \n",
    "#     'h'         signed integer     2 \n",
    "#     'H'         unsigned integer   2 \n",
    "#     'i'         signed integer     2 \n",
    "#     'I'         unsigned integer   2 \n",
    "#     'l'         signed integer     4 \n",
    "#     'L'         unsigned integer   4 \n",
    "#     'q'         signed integer     8 (see note) \n",
    "#     'Q'         unsigned integer   8 (see note) \n",
    "#     'f'         floating point     4 \n",
    "#     'd'         floating point     8 "
   ]
  },
  {
   "cell_type": "code",
   "execution_count": 2,
   "metadata": {},
   "outputs": [
    {
     "name": "stdout",
     "output_type": "stream",
     "text": [
      "<class 'numpy.ndarray'>\n",
      "<class 'numpy.float64'>\n",
      "<class 'numpy.float64'>\n",
      "<class 'numpy.float64'>\n",
      "<class 'numpy.float64'>\n",
      "<class 'numpy.float64'>\n"
     ]
    },
    {
     "data": {
      "text/plain": [
       "array([1., 2., 3.], dtype=float16)"
      ]
     },
     "execution_count": 2,
     "metadata": {},
     "output_type": "execute_result"
    }
   ],
   "source": [
    "#NumPy Array 會限制內容必須是一致的型態\n",
    "#會自動轉型成一致\n",
    "\n",
    "import numpy as np\n",
    "np.__version__ #python _attribute_  屬性通常會在前面加上底線\n",
    "nparr=np.array([1,4.1,2,5.2,3])\n",
    "\n",
    "print(type(nparr))\n",
    "\n",
    "for i in nparr:\n",
    "    print(type(i))\n",
    "# 可使用 dtype 指定\n",
    "np.array([1,2,3],dtype='float16')"
   ]
  },
  {
   "cell_type": "code",
   "execution_count": 3,
   "metadata": {},
   "outputs": [
    {
     "data": {
      "text/plain": [
       "array([[1, 0, 0, 0, 0],\n",
       "       [0, 1, 0, 0, 0],\n",
       "       [0, 0, 1, 0, 0],\n",
       "       [0, 0, 0, 1, 0],\n",
       "       [0, 0, 0, 0, 1]])"
      ]
     },
     "execution_count": 3,
     "metadata": {},
     "output_type": "execute_result"
    }
   ],
   "source": [
    "# 建立 三維陣列\n",
    "np.array([range(i,i+3) for i in [2,5,6]])\n",
    "\n",
    "# np.zeros 建立一個全部為零的 arrray 可帶入參數 shape= 陣列維度和長度 dtype='型態'\n",
    "zeroArr=np.zeros([2,1],int)         # example 1 \n",
    "zeroArr1=np.zeros(10,dtype='float') # example 2\n",
    "# 相同用法 np.ones  \n",
    "oneArr=np.ones([3,2],float)  \n",
    "oneArr1=np.ones((3,1),int)\n",
    "# 相同用法 np.full\n",
    "fullArr=np.full((5,2),2.11)\n",
    "fullArr\n",
    "# np.arrange 跟一般range 相同\n",
    "np.arange(5)\n",
    "#for i in np.arange(3,7,2):\n",
    "#    print(i)\n",
    "\n",
    "\n",
    "#!! np.linspace(begin, end , interval) 建立一個 begin 到 end 平均分配的陣列\n",
    "np.linspace(1,2,3)\n",
    "\n",
    "#!!! np.random.random((list,element)) 建立一個0-1隨機值的多維陣列  幾個list 一個list 有多少元素\n",
    "np.random.random((3,4))\n",
    "#!!! np.random.normal( avg , sd ,(list,element))  建立一個 平均值為avg ,標準差為 sd 常態分配的隨機多維陣列 標準差為1 平均值為0\n",
    "np.random.normal(2,5,(3,1))\n",
    "#!!! np.random.randint(begin,end,(list,element))  建立一個 從bein-end 隨機值的 多維陣列  \n",
    "np.random.randint(3,6,(3,2))\n",
    "# np.eye( int ) 建立單位矩陣\n",
    "np.eye(5,dtype=int)"
   ]
  },
  {
   "cell_type": "code",
   "execution_count": 4,
   "metadata": {},
   "outputs": [
    {
     "name": "stdout",
     "output_type": "stream",
     "text": [
      "x3 ndim: 3\n",
      "x3 shape: (3, 4, 5)\n",
      "x3 size: 60\n",
      "x3 dtypeL int32\n"
     ]
    }
   ],
   "source": [
    "x1=np.random.randint(10,size=6)\n",
    "x2=np.random.randint(10,size=(3,4))\n",
    "x3=np.random.randint(10,size=(3,4,5))\n",
    "# np array attribute\n",
    "# attribute 1 ndim 維度\n",
    "print('x3 ndim:',x3.ndim)\n",
    "# attribute 2 shape 維度大小 \n",
    "print('x3 shape:',x3.shape)\n",
    "# attribute 3 size 個數\n",
    "print('x3 size:',x3.size)\n",
    "# attribute 4 dtype 型態\n",
    "print('x3 dtypeL',x3.dtype)"
   ]
  },
  {
   "cell_type": "code",
   "execution_count": 5,
   "metadata": {},
   "outputs": [
    {
     "name": "stdout",
     "output_type": "stream",
     "text": [
      "5\n",
      "7\n",
      "2\n"
     ]
    },
    {
     "data": {
      "text/plain": [
       "array([2, 6, 5, 7, 2, 9])"
      ]
     },
     "execution_count": 5,
     "metadata": {},
     "output_type": "execute_result"
    }
   ],
   "source": [
    "# NumPy 取值方式與List一致\n",
    "# example 1:\n",
    "print(x1[0])\n",
    "print(x1[3])\n",
    "print(x1[-2])\n",
    "#!!! Numpy 內容形態固定 如插入不同型態會自動轉型或截斷\n",
    "x1[0]=2.123\n",
    "x1"
   ]
  },
  {
   "cell_type": "code",
   "execution_count": 6,
   "metadata": {},
   "outputs": [
    {
     "name": "stdout",
     "output_type": "stream",
     "text": [
      "8\n"
     ]
    },
    {
     "data": {
      "text/plain": [
       "array([[ 0,  1,  6,  3],\n",
       "       [ 4,  7,  8, 33],\n",
       "       [ 4,  9,  6,  8]])"
      ]
     },
     "execution_count": 6,
     "metadata": {},
     "output_type": "execute_result"
    }
   ],
   "source": [
    "# NumPy 中括號取法\n",
    "print(x2[1,2])\n",
    "# 可以直接指定值\n",
    "x2[1,3]=33\n",
    "x2"
   ]
  },
  {
   "cell_type": "code",
   "execution_count": 7,
   "metadata": {},
   "outputs": [
    {
     "name": "stdout",
     "output_type": "stream",
     "text": [
      "[0 2 4 6 8]\n",
      "[9 7 5 3 1]\n"
     ]
    },
    {
     "data": {
      "text/plain": [
       "array([0, 1, 2, 3, 4, 5, 6, 7, 8, 9])"
      ]
     },
     "execution_count": 7,
     "metadata": {},
     "output_type": "execute_result"
    }
   ],
   "source": [
    "# 切片使用方法 x[start:stop:step]\n",
    "x=np.arange(10)\n",
    "print(x[0::2])\n",
    "print(x[::-2])\n",
    "x"
   ]
  },
  {
   "cell_type": "code",
   "execution_count": 8,
   "metadata": {},
   "outputs": [
    {
     "name": "stdout",
     "output_type": "stream",
     "text": [
      "[ 3 33  8]\n",
      "[4 9 6 8]\n"
     ]
    },
    {
     "data": {
      "text/plain": [
       "array([[ 0,  1,  6,  3],\n",
       "       [ 4,  7,  8, 33],\n",
       "       [ 4,  9,  6,  8]])"
      ]
     },
     "execution_count": 8,
     "metadata": {},
     "output_type": "execute_result"
    }
   ],
   "source": [
    "# array[row,col] 讀取\n",
    "print(x2[:,-1])\n",
    "print(x2[2,:])\n",
    "x2"
   ]
  },
  {
   "cell_type": "markdown",
   "metadata": {},
   "source": [
    "<h2 style='color:red'> Important !!! </h2>"
   ]
  },
  {
   "cell_type": "code",
   "execution_count": 9,
   "metadata": {},
   "outputs": [
    {
     "name": "stdout",
     "output_type": "stream",
     "text": [
      "[[ 0  1  6  3]\n",
      " [ 4  7  8 33]\n",
      " [ 4  9  6  8]]\n",
      "----------------\n",
      "[[ 8 33]\n",
      " [ 6  8]]\n",
      "----------------\n",
      "[[ 8 23]\n",
      " [ 6  8]]\n",
      "----------------\n",
      "[[ 0  1  6  3]\n",
      " [ 4  7  8 23]\n",
      " [ 4  9  6  8]]\n"
     ]
    }
   ],
   "source": [
    "# Numpy slice 非複製資料結構，是製作視圖 ！！！ 表示可以讀取一個大資料集中的部分資料卻步loading 原有資料\n",
    "# example 1:\n",
    "print(x2)\n",
    "print('----------------')\n",
    "temp=x2[1:,2:]\n",
    "print(temp)\n",
    "print('----------------')\n",
    "temp[0,1]=23\n",
    "print(temp)\n",
    "print('----------------')\n",
    "print(x2)"
   ]
  },
  {
   "cell_type": "code",
   "execution_count": 10,
   "metadata": {},
   "outputs": [
    {
     "name": "stdout",
     "output_type": "stream",
     "text": [
      "[8 6]\n",
      "----------------\n",
      "[2 6]\n",
      "----------------\n",
      "[[ 0  1  6  3]\n",
      " [ 4  7  8 23]\n",
      " [ 4  9  6  8]]\n"
     ]
    }
   ],
   "source": [
    "# 複製 slice  \n",
    "x2_copy=x2[1:,2].copy()\n",
    "print(x2_copy)\n",
    "print('----------------')\n",
    "x2_copy[0]=2\n",
    "print(x2_copy)\n",
    "print('----------------')\n",
    "print(x2)\n",
    "\n",
    "#原始資料未變"
   ]
  },
  {
   "cell_type": "code",
   "execution_count": 11,
   "metadata": {},
   "outputs": [
    {
     "name": "stdout",
     "output_type": "stream",
     "text": [
      "[[[1 2]\n",
      "  [3 4]]\n",
      "\n",
      " [[5 6]\n",
      "  [7 8]]]\n",
      "[[1 2 3]\n",
      " [4 5 6]\n",
      " [7 8 9]]\n",
      "x (2, 3)\n",
      "reshape [[1 2 3 2 5 6]]\n",
      "np.newaxis [[[1 2 3]\n",
      "  [2 5 6]]]\n",
      "np.newaxis [[[1 2 3]]\n",
      "\n",
      " [[2 5 6]]]\n"
     ]
    }
   ],
   "source": [
    "# Numpy Array 可以使用 reshape (維度,大小) 將資料隨意轉換\n",
    "grid=np.arange(1,9).reshape(2,2,2)\n",
    "print(grid)\n",
    "grid2d=np.arange(1,10).reshape(3,3)\n",
    "print(grid2d)\n",
    "# reshape(1 ,大小) 會重新轉為二維陣列 \n",
    "regrid=grid.reshape(1,8)\n",
    "regrid[0][0]\n",
    "# reshape 乘列向量 \n",
    "x=np.array([[1,2,3],[2,5,6]])\n",
    "print('x',x.shape)\n",
    "print('reshape',x.reshape(1,6))\n",
    "print('np.newaxis',x[np.newaxis,:])\n",
    "# x[:,np.newaxis]\n",
    "print('np.newaxis',x[:,np.newaxis])"
   ]
  },
  {
   "cell_type": "code",
   "execution_count": 12,
   "metadata": {},
   "outputs": [
    {
     "name": "stdout",
     "output_type": "stream",
     "text": [
      "concatenate 2 [1 2 3 4 5 6]\n",
      "concatenate 3 [1 2 3 4 5 6 9 9 9]\n",
      "concatenate mutiple dimension : [[1 2 3]\n",
      " [4 5 6]\n",
      " [1 2 3]\n",
      " [4 5 6]]\n",
      "concatenate mutiple dimension axis=1 : [[1 2 3 1 2 3]\n",
      " [4 5 6 4 5 6]]\n"
     ]
    }
   ],
   "source": [
    "# 陣列的串接和分割 主要使用np.concatenate np.vstack np.hstack\n",
    "x=np.array([1,2,3])\n",
    "y=np.array([4,5,6])\n",
    "print('concatenate 2',np.concatenate([x,y]))\n",
    "# 串接多個陣列 \n",
    "z=np.array([9,9,9])\n",
    "print('concatenate 3',np.concatenate([x,y,z]))\n",
    "\n",
    "# 串接多維陣列 \n",
    "grid=np.array([[1,2,3],[4,5,6]]) \n",
    "print('concatenate mutiple dimension :',np.concatenate([grid,grid]))\n",
    "print('concatenate mutiple dimension axis=1 :',np.concatenate([grid,grid],axis=1))\n",
    "\n",
    "############################### \n",
    "# 缺點是不太好區分 可能使用錯\n",
    "###############################"
   ]
  },
  {
   "cell_type": "code",
   "execution_count": 13,
   "metadata": {},
   "outputs": [
    {
     "name": "stdout",
     "output_type": "stream",
     "text": [
      "np.vstack : [[9 8 7]\n",
      " [6 5 4]\n",
      " [1 2 3]]\n",
      "np.hstack : [[ 9  8  7 99]\n",
      " [ 6  5  4 99]]\n"
     ]
    }
   ],
   "source": [
    "# np.vstack 垂直堆疊 verical stack  --  大小必須一致\n",
    "\n",
    "x=np.array([1,2,3])\n",
    "grid=np.array([[9,8,7],[6,5,4]])\n",
    "print('np.vstack :',np.vstack([grid,x]))\n",
    "# np.hstack水平堆疊 horizontal stack 維度必須一致\n",
    "y=np.array([[99],[99]])\n",
    "print('np.hstack :',np.hstack([grid,y]))"
   ]
  },
  {
   "cell_type": "code",
   "execution_count": 14,
   "metadata": {},
   "outputs": [
    {
     "name": "stdout",
     "output_type": "stream",
     "text": [
      "[1 2 3] [99] [7 5]\n",
      "[[0 1 2 3]\n",
      " [4 5 6 7]] [[ 8  9 10 11]\n",
      " [12 13 14 15]]\n"
     ]
    }
   ],
   "source": [
    "# Numpy Array 切割  np.split\n",
    "temp=np.array([1,2,3,99,7,5])\n",
    "x1,x2,x3= np.split(temp,(3,4))\n",
    "print(x1,x2,x3)\n",
    "# np.vsplit  \n",
    "grid=np.arange(16).reshape(4,4)\n",
    "upper,lower=np.vsplit(grid,2)\n",
    "print(upper,lower)"
   ]
  },
  {
   "cell_type": "code",
   "execution_count": 15,
   "metadata": {},
   "outputs": [
    {
     "data": {
      "text/plain": [
       "(100, 2)"
      ]
     },
     "execution_count": 15,
     "metadata": {},
     "output_type": "execute_result"
    }
   ],
   "source": [
    "mean=[0,0]\n",
    "cov=[[1,2],[2,5]]\n",
    "X=np.random.multivariate_normal(mean,cov,100)\n",
    "X.shape\n"
   ]
  },
  {
   "cell_type": "code",
   "execution_count": 16,
   "metadata": {},
   "outputs": [
    {
     "data": {
      "text/plain": [
       "<matplotlib.collections.PathCollection at 0xe9c9386128>"
      ]
     },
     "execution_count": 16,
     "metadata": {},
     "output_type": "execute_result"
    },
    {
     "data": {
      "image/png": "[encoded data removed]",
      "text/plain": [
       "<Figure size 432x288 with 1 Axes>"
      ]
     },
     "metadata": {},
     "output_type": "display_data"
    }
   ],
   "source": [
    "%matplotlib inline\n",
    "import matplotlib.pyplot as plt\n",
    "import seaborn; seaborn.set()\n",
    "plt.scatter(X[:,0],X[:,1])"
   ]
  },
  {
   "cell_type": "code",
   "execution_count": 17,
   "metadata": {},
   "outputs": [
    {
     "data": {
      "text/plain": [
       "<matplotlib.collections.PathCollection at 0xe9c9367dd8>"
      ]
     },
     "execution_count": 17,
     "metadata": {},
     "output_type": "execute_result"
    },
    {
     "data": {
      "image/png": "[encoded data removed]",
      "text/plain": [
       "<Figure size 432x288 with 1 Axes>"
      ]
     },
     "metadata": {},
     "output_type": "display_data"
    }
   ],
   "source": [
    "indices=np.random.choice(X.shape[0],20,replace=False)\n",
    "indices\n",
    "selection=X[indices]\n",
    "selection.shape\n",
    "\n",
    "plt.scatter(X[:,0],X[:,1] ,alpha=0.5)\n",
    "plt.scatter(selection[:,0],selection[:,1],facecolor='none',s=200 ,alpha=0.8)"
   ]
  },
  {
   "cell_type": "code",
   "execution_count": 32,
   "metadata": {},
   "outputs": [
    {
     "name": "stdout",
     "output_type": "stream",
     "text": [
      "x :  [ 0.49671415 -0.1382643   0.64768854  1.52302986 -0.23415337 -0.23413696\n",
      "  1.57921282  0.76743473 -0.46947439  0.54256004 -0.46341769 -0.46572975\n",
      "  0.24196227 -1.91328024 -1.72491783 -0.56228753 -1.01283112  0.31424733\n",
      " -0.90802408 -1.4123037   1.46564877 -0.2257763   0.0675282  -1.42474819\n",
      " -0.54438272  0.11092259 -1.15099358  0.37569802 -0.60063869 -0.29169375\n",
      " -0.60170661  1.85227818 -0.01349722 -1.05771093  0.82254491 -1.22084365\n",
      "  0.2088636  -1.95967012 -1.32818605  0.19686124  0.73846658  0.17136828\n",
      " -0.11564828 -0.3011037  -1.47852199 -0.71984421 -0.46063877  1.05712223\n",
      "  0.34361829 -1.76304016  0.32408397 -0.38508228 -0.676922    0.61167629\n",
      "  1.03099952  0.93128012 -0.83921752 -0.30921238  0.33126343  0.97554513\n",
      " -0.47917424 -0.18565898 -1.10633497 -1.19620662  0.81252582  1.35624003\n",
      " -0.07201012  1.0035329   0.36163603 -0.64511975  0.36139561  1.53803657\n",
      " -0.03582604  1.56464366 -2.6197451   0.8219025   0.08704707 -0.29900735\n",
      "  0.09176078 -1.98756891 -0.21967189  0.35711257  1.47789404 -0.51827022\n",
      " -0.8084936  -0.50175704  0.91540212  0.32875111 -0.5297602   0.51326743\n",
      "  0.09707755  0.96864499 -0.70205309 -0.32766215 -0.39210815 -1.46351495\n",
      "  0.29612028  0.26105527  0.00511346 -0.23458713]\n",
      "i :  [11 10 11 13 10 10 13 11  9 11  9  9 10  6  7  9  8 11  8  7 13 10 10  7\n",
      "  9 10  8 11  9  9  9 14 10  8 12  8 10  6  7 10 11 10 10  9  7  9  9 12\n",
      " 11  7 11  9  9 11 12 12  8  9 11 12  9 10  8  8 12 13 10 12 11  9 11 13\n",
      " 10 13  5 12 10  9 10  6 10 11 13  9  8  9 12 11  9 11 10 12  9  9  9  7\n",
      " 11 10 10 10]\n",
      "\n",
      "bins :  [-5.         -4.47368421 -3.94736842 -3.42105263 -2.89473684 -2.36842105\n",
      " -1.84210526 -1.31578947 -0.78947368 -0.26315789  0.26315789  0.78947368\n",
      "  1.31578947  1.84210526  2.36842105  2.89473684  3.42105263  3.94736842\n",
      "  4.47368421  5.        ]\n",
      "\n",
      "counts : [ 0.  0.  0.  0.  0.  1.  3.  7.  9. 23. 22. 17. 10.  7.  1.  0.  0.  0.\n",
      "  0.  0.]\n"
     ]
    },
    {
     "data": {
      "text/plain": [
       "[<matplotlib.lines.Line2D at 0xe9c84dc470>]"
      ]
     },
     "execution_count": 32,
     "metadata": {},
     "output_type": "execute_result"
    },
    {
     "data": {
      "image/png": "[encoded data removed]",
      "text/plain": [
       "<Figure size 432x288 with 1 Axes>"
      ]
     },
     "metadata": {},
     "output_type": "display_data"
    }
   ],
   "source": [
    "\n",
    "## 以下這一整串 代表著 plot.hist(x,bins)\n",
    "\n",
    "np.random.seed(42)\n",
    "#隨機取 常態分配 100 個樣本\n",
    "x=np.random.randn(100)\n",
    "print('x : ',x)\n",
    "# 切 5 - -5 切 20份 當作x軸\n",
    "bins=np.linspace(-5,5,20)\n",
    "\n",
    "counts=np.zeros_like(bins)\n",
    "counts\n",
    "\n",
    "i=np.searchsorted(bins,x)\n",
    "print('i : ',i)\n",
    "np.add.at(counts,i,1)\n",
    "print()\n",
    "print('bins : ',bins)\n",
    "print()\n",
    "print('counts :',counts)\n",
    "plt.plot(bins,counts,linestyle='steps')"
   ]
  },
  {
   "cell_type": "code",
   "execution_count": 34,
   "metadata": {},
   "outputs": [
    {
     "data": {
      "text/plain": [
       "(array([ 0.,  0.,  0.,  0.,  1.,  3.,  7.,  9., 23., 22., 17., 10.,  7.,\n",
       "         1.,  0.,  0.,  0.,  0.,  0.]),\n",
       " array([-5.        , -4.47368421, -3.94736842, -3.42105263, -2.89473684,\n",
       "        -2.36842105, -1.84210526, -1.31578947, -0.78947368, -0.26315789,\n",
       "         0.26315789,  0.78947368,  1.31578947,  1.84210526,  2.36842105,\n",
       "         2.89473684,  3.42105263,  3.94736842,  4.47368421,  5.        ]),\n",
       " <a list of 19 Patch objects>)"
      ]
     },
     "execution_count": 34,
     "metadata": {},
     "output_type": "execute_result"
    },
    {
     "data": {
      "image/png": "[encoded data removed]",
      "text/plain": [
       "<Figure size 432x288 with 1 Axes>"
      ]
     },
     "metadata": {},
     "output_type": "display_data"
    }
   ],
   "source": [
    "plt.hist(x,bins)"
   ]
  },
  {
   "cell_type": "code",
   "execution_count": 38,
   "metadata": {},
   "outputs": [
    {
     "name": "stdout",
     "output_type": "stream",
     "text": [
      "NumPy Routine :\n",
      "57.6 µs ± 1.31 µs per loop (mean ± std. dev. of 7 runs, 10000 loops each)\n",
      "Custom Routine :\n",
      "14.9 µs ± 137 ns per loop (mean ± std. dev. of 7 runs, 100000 loops each)\n"
     ]
    }
   ],
   "source": [
    "# 比較一下自己做出的演算法 以及 plot.hist() 使用的np.histogram()\n",
    "\n",
    "print('NumPy Routine :')\n",
    "%timeit counts,edges=np.histogram(x,bins)\n",
    "\n",
    "print('Custom Routine :')\n",
    "%timeit np.add.at(counts,np.searchsorted(bins ,x ),1)\n",
    "\n",
    "# 可以發現 在小資料 客製化的會比np.histogram() 快速"
   ]
  },
  {
   "cell_type": "code",
   "execution_count": 39,
   "metadata": {},
   "outputs": [
    {
     "name": "stdout",
     "output_type": "stream",
     "text": [
      "NumPy Routine :\n",
      "65.3 ms ± 1e+03 µs per loop (mean ± std. dev. of 7 runs, 10 loops each)\n",
      "Custom Routine :\n",
      "128 ms ± 780 µs per loop (mean ± std. dev. of 7 runs, 10 loops each)\n"
     ]
    }
   ],
   "source": [
    "x=np.random.randn(1000000)\n",
    "print('NumPy Routine :')\n",
    "%timeit counts,edges=np.histogram(x,bins)\n",
    "\n",
    "print('Custom Routine :')\n",
    "%timeit np.add.at(counts,np.searchsorted(bins ,x ),1)\n",
    "# 可以看到的是 當資料數量變大的時候 np.histogram 的速度快於客製化的速度 \n",
    "\n",
    "#由此可見 大資料集的演算法未必會是小資料集最佳的選擇 "
   ]
  }
 ],
 "metadata": {
  "kernelspec": {
   "display_name": "Python 3",
   "language": "python",
   "name": "python3"
  },
  "language_info": {
   "codemirror_mode": {
    "name": "ipython",
    "version": 3
   },
   "file_extension": ".py",
   "mimetype": "text/x-python",
   "name": "python",
   "nbconvert_exporter": "python",
   "pygments_lexer": "ipython3",
   "version": "3.6.5"
  }
 },
 "nbformat": 4,
 "nbformat_minor": 2
}
