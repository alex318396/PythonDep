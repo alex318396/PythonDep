{
 "cells": [
  {
   "cell_type": "code",
   "execution_count": 12,
   "metadata": {},
   "outputs": [
    {
     "data": {
      "text/plain": [
       "'1.14.3'"
      ]
     },
     "execution_count": 12,
     "metadata": {},
     "output_type": "execute_result"
    }
   ],
   "source": [
    "numpy.__version__ #python _attribute_  屬性通常會在前面加上底線"
   ]
  },
  {
   "cell_type": "code",
   "execution_count": 20,
   "metadata": {},
   "outputs": [
    {
     "name": "stdout",
     "output_type": "stream",
     "text": [
      "<class 'float'>\n",
      "0.0\n",
      "<class 'float'>\n",
      "1.0\n",
      "<class 'float'>\n",
      "2.0\n",
      "<class 'float'>\n",
      "3.0\n",
      "<class 'float'>\n",
      "4.0\n",
      "<class 'float'>\n",
      "5.0\n",
      "<class 'float'>\n",
      "6.0\n",
      "<class 'float'>\n",
      "7.0\n",
      "<class 'float'>\n",
      "8.0\n",
      "<class 'float'>\n",
      "9.0\n"
     ]
    }
   ],
   "source": [
    "#     array.array( 型態  ,  資料)\n",
    "import array as ay\n",
    "L=list(range(10))\n",
    "ArrayList=ay.array('f',L)\n",
    "for i in ArrayList:\n",
    "    print(type(i))\n",
    "    print(i)\n",
    "    \n",
    "    \n",
    "    \n",
    "\n",
    "#     -----------------型態表-----------------\n",
    "#     'b'         signed integer     1 \n",
    "#     'B'         unsigned integer   1 \n",
    "#     'u'         Unicode character  2 (see note) \n",
    "#     'h'         signed integer     2 \n",
    "#     'H'         unsigned integer   2 \n",
    "#     'i'         signed integer     2 \n",
    "#     'I'         unsigned integer   2 \n",
    "#     'l'         signed integer     4 \n",
    "#     'L'         unsigned integer   4 \n",
    "#     'q'         signed integer     8 (see note) \n",
    "#     'Q'         unsigned integer   8 (see note) \n",
    "#     'f'         floating point     4 \n",
    "#     'd'         floating point     8 "
   ]
  },
  {
   "cell_type": "code",
   "execution_count": 1,
   "metadata": {},
   "outputs": [
    {
     "name": "stdout",
     "output_type": "stream",
     "text": [
      "<class 'numpy.ndarray'>\n",
      "<class 'numpy.float64'>\n",
      "<class 'numpy.float64'>\n",
      "<class 'numpy.float64'>\n",
      "<class 'numpy.float64'>\n",
      "<class 'numpy.float64'>\n"
     ]
    },
    {
     "data": {
      "text/plain": [
       "array([1., 2., 3.], dtype=float16)"
      ]
     },
     "execution_count": 1,
     "metadata": {},
     "output_type": "execute_result"
    }
   ],
   "source": [
    "#NumPy Array 會限制內容必須是一致的型態\n",
    "#會自動轉型成一致\n",
    "\n",
    "import numpy as np\n",
    "\n",
    "nparr=np.array([1,4.1,2,5.2,3])\n",
    "\n",
    "print(type(nparr))\n",
    "\n",
    "for i in nparr:\n",
    "    print(type(i))\n",
    "# 可使用 dtype 指定\n",
    "np.array([1,2,3],dtype='float16')"
   ]
  },
  {
   "cell_type": "code",
   "execution_count": 33,
   "metadata": {},
   "outputs": [
    {
     "data": {
      "text/plain": [
       "array([[1, 0, 0, 0, 0],\n",
       "       [0, 1, 0, 0, 0],\n",
       "       [0, 0, 1, 0, 0],\n",
       "       [0, 0, 0, 1, 0],\n",
       "       [0, 0, 0, 0, 1]])"
      ]
     },
     "execution_count": 33,
     "metadata": {},
     "output_type": "execute_result"
    }
   ],
   "source": [
    "# 建立 三維陣列\n",
    "np.array([range(i,i+3) for i in [2,5,6]])\n",
    "\n",
    "# np.zeros 建立一個全部為零的 arrray 可帶入參數 shape= 陣列維度和長度 dtype='型態'\n",
    "zeroArr=np.zeros([2,1],int)         # example 1 \n",
    "zeroArr1=np.zeros(10,dtype='float') # example 2\n",
    "# 相同用法 np.ones  \n",
    "oneArr=np.ones([3,2],float)  \n",
    "oneArr1=np.ones((3,1),int)\n",
    "# 相同用法 np.full\n",
    "fullArr=np.full((5,2),2.11)\n",
    "fullArr\n",
    "# np.arrange 跟一般range 相同\n",
    "np.arange(5)\n",
    "#for i in np.arange(3,7,2):\n",
    "#    print(i)\n",
    "\n",
    "\n",
    "#!! np.linspace(begin, end , interval) 建立一個 begin 到 end 平均分配的陣列\n",
    "np.linspace(1,2,3)\n",
    "\n",
    "#!!! np.random.random((list,element)) 建立一個0-1隨機值的多維陣列  幾個list 一個list 有多少元素\n",
    "np.random.random((3,4))\n",
    "#!!! np.random.normal( avg , sd ,(list,element))  建立一個 平均值為avg ,標準差為 sd 常態分配的隨機多維陣列 標準差為1 平均值為0\n",
    "np.random.normal(2,5,(3,1))\n",
    "#!!! np.random.randint(begin,end,(list,element))  建立一個 從bein-end 隨機值的 多維陣列  \n",
    "np.random.randint(3,6,(3,2))\n",
    "# np.eye( int ) 建立單位矩陣\n",
    "np.eye(5,dtype=int)"
   ]
  },
  {
   "cell_type": "code",
   "execution_count": null,
   "metadata": {},
   "outputs": [],
   "source": []
  },
  {
   "cell_type": "code",
   "execution_count": 38,
   "metadata": {},
   "outputs": [
    {
     "name": "stdout",
     "output_type": "stream",
     "text": [
      "<generator object <genexpr> at 0x0000007F23688518>\n"
     ]
    }
   ],
   "source": []
  }
 ],
 "metadata": {
  "kernelspec": {
   "display_name": "Python 3",
   "language": "python",
   "name": "python3"
  },
  "language_info": {
   "codemirror_mode": {
    "name": "ipython",
    "version": 3
   },
   "file_extension": ".py",
   "mimetype": "text/x-python",
   "name": "python",
   "nbconvert_exporter": "python",
   "pygments_lexer": "ipython3",
   "version": "3.6.5"
  }
 },
 "nbformat": 4,
 "nbformat_minor": 2
}
