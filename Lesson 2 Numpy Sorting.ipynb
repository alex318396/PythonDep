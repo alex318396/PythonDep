{
 "cells": [
  {
   "cell_type": "code",
   "execution_count": 3,
   "metadata": {},
   "outputs": [],
   "source": [
    "import numpy as np\n",
    "# 1 插入排序\n",
    "# 2 選擇排序\n",
    "# 3 合併排序\n",
    "# 4 快速排序\n",
    "# 5 泡泡排序"
   ]
  },
  {
   "cell_type": "code",
   "execution_count": 13,
   "metadata": {},
   "outputs": [
    {
     "name": "stdout",
     "output_type": "stream",
     "text": [
      "np.argmin(x[i:]) :  0\n",
      "swap :  0\n",
      "2 2\n",
      "np.argmin(x[i:]) :  3\n",
      "swap :  4\n",
      "5 13\n",
      "np.argmin(x[i:]) :  2\n",
      "swap :  4\n",
      "13 42\n",
      "np.argmin(x[i:]) :  0\n",
      "swap :  3\n",
      "33 33\n",
      "np.argmin(x[i:]) :  0\n",
      "swap :  4\n",
      "42 42\n",
      "[ 2  5 13 33 42]\n"
     ]
    }
   ],
   "source": [
    "# 相當的慢\n",
    "def selection_sort(x):\n",
    "    for i in range(len(x)):\n",
    "        # np.argmin( ) 回傳該slice 的最小值的索引\n",
    "        swap=i+np.argmin(x[i:])\n",
    "        print('np.argmin(x[i:]) : ', np.argmin(x[i:]))\n",
    "        print('swap : ',swap)\n",
    "        (x[i],x[swap])=(x[swap],x[i])\n",
    "        print (x[i],x[swap]) \n",
    "    return x\n",
    "x=np.array([2,13,42,33,5])\n",
    "\n",
    "print(selection_sort(x))"
   ]
  },
  {
   "cell_type": "code",
   "execution_count": 19,
   "metadata": {},
   "outputs": [
    {
     "name": "stdout",
     "output_type": "stream",
     "text": [
      "[ 2  5 13 33 42]\n"
     ]
    }
   ],
   "source": [
    "# np.sort 使用 quicksort 演算法 在大部分的情況已非常夠用\n",
    "np.sort(x)\n",
    "# 陣列中的sort ()\n",
    "x.sort()\n",
    "print(x)"
   ]
  }
 ],
 "metadata": {
  "kernelspec": {
   "display_name": "Python 3",
   "language": "python",
   "name": "python3"
  },
  "language_info": {
   "codemirror_mode": {
    "name": "ipython",
    "version": 3
   },
   "file_extension": ".py",
   "mimetype": "text/x-python",
   "name": "python",
   "nbconvert_exporter": "python",
   "pygments_lexer": "ipython3",
   "version": "3.6.5"
  }
 },
 "nbformat": 4,
 "nbformat_minor": 2
}
